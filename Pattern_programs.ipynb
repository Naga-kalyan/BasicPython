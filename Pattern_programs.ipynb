{
 "cells": [
  {
   "cell_type": "code",
   "execution_count": 1,
   "metadata": {},
   "outputs": [
    {
     "name": "stdout",
     "output_type": "stream",
     "text": [
      "Enter a number :7\n",
      "* * * * * * * \n",
      "* * * * * * * \n",
      "* * * * * * * \n",
      "* * * * * * * \n",
      "* * * * * * * \n",
      "* * * * * * * \n",
      "* * * * * * * \n"
     ]
    }
   ],
   "source": [
    "a=int(input(\"Enter a number :\"))\n",
    "for i in range(0,a):\n",
    "    for j in range(0,a):\n",
    "        print(\"*\",end=' ')\n",
    "    print()"
   ]
  },
  {
   "cell_type": "code",
   "execution_count": 2,
   "metadata": {},
   "outputs": [
    {
     "name": "stdout",
     "output_type": "stream",
     "text": [
      "Enter a number :7\n",
      "* * * * * * * \n",
      "*           * \n",
      "*           * \n",
      "*           * \n",
      "*           * \n",
      "*           * \n",
      "* * * * * * * \n"
     ]
    }
   ],
   "source": [
    "a=int(input(\"Enter a number :\"))\n",
    "for i in range(0,a):\n",
    "    for j in range(0,a):\n",
    "        if((i==0)or(j==0)or(i==(a-1))or(j==(a-1))):\n",
    "            print(\"*\",end=' ')\n",
    "        else:\n",
    "            print(' ',end=' ')\n",
    "    print()"
   ]
  },
  {
   "cell_type": "code",
   "execution_count": 3,
   "metadata": {},
   "outputs": [
    {
     "name": "stdout",
     "output_type": "stream",
     "text": [
      "Enter a number :7\n",
      "* * * * * * * \n",
      "* *       * * \n",
      "*   *   *   * \n",
      "*     *     * \n",
      "*   *   *   * \n",
      "* *       * * \n",
      "* * * * * * * \n"
     ]
    }
   ],
   "source": [
    "a=int(input(\"Enter a number :\"))\n",
    "for i in range(0,a):\n",
    "    for j in range(0,a):\n",
    "        if((i==0)or(j==0)or(i==(a-1))or(j==(a-1))or(j==i)or((i+j)==(a-1))):\n",
    "            print(\"*\",end=' ')\n",
    "        else:\n",
    "            print(' ',end=' ')\n",
    "    print()"
   ]
  },
  {
   "cell_type": "code",
   "execution_count": 4,
   "metadata": {},
   "outputs": [
    {
     "name": "stdout",
     "output_type": "stream",
     "text": [
      "Enter a number :7\n",
      "        * * * * * * * \n",
      "       * * * * * * * \n",
      "      * * * * * * * \n",
      "     * * * * * * * \n",
      "    * * * * * * * \n",
      "   * * * * * * * \n",
      "  * * * * * * * \n"
     ]
    }
   ],
   "source": [
    "a=int(input(\"Enter a number :\"))\n",
    "for i in range(0,a):\n",
    "    print(' '*(a-i),end=' ')\n",
    "    for j in range(0,a):\n",
    "        print('*',end=' ')\n",
    "    print()"
   ]
  },
  {
   "cell_type": "code",
   "execution_count": 5,
   "metadata": {},
   "outputs": [
    {
     "name": "stdout",
     "output_type": "stream",
     "text": [
      "Enter a number :7\n",
      " * * * * * * * \n",
      "  * * * * * * * \n",
      "   * * * * * * * \n",
      "    * * * * * * * \n",
      "     * * * * * * * \n",
      "      * * * * * * * \n",
      "       * * * * * * * \n"
     ]
    }
   ],
   "source": [
    "a=int(input(\"Enter a number :\"))\n",
    "for i in range(0,a):\n",
    "    print(' '*i,end=' ')\n",
    "    for j in range(0,a):\n",
    "        print('*',end=' ')\n",
    "    print()"
   ]
  },
  {
   "cell_type": "code",
   "execution_count": 6,
   "metadata": {},
   "outputs": [
    {
     "name": "stdout",
     "output_type": "stream",
     "text": [
      "Enter a number :7\n",
      "        * * * * * * * \n",
      "       *           * \n",
      "      *           * \n",
      "     *           * \n",
      "    *           * \n",
      "   *           * \n",
      "  * * * * * * * \n"
     ]
    }
   ],
   "source": [
    "a=int(input(\"Enter a number :\"))\n",
    "for i in range(0,a):\n",
    "    print(' '*(a-i),end=' ')\n",
    "    for j in range(0,a):\n",
    "        if((i==0)or(j==0)or(i==(a-1))or(j==(a-1))):\n",
    "            print(\"*\",end=' ')\n",
    "        else:\n",
    "            print(' ',end=' ')\n",
    "    print()"
   ]
  },
  {
   "cell_type": "code",
   "execution_count": 7,
   "metadata": {},
   "outputs": [
    {
     "name": "stdout",
     "output_type": "stream",
     "text": [
      "Enter a number :7\n",
      " * * * * * * * \n",
      "  *           * \n",
      "   *           * \n",
      "    *           * \n",
      "     *           * \n",
      "      *           * \n",
      "       * * * * * * * \n"
     ]
    }
   ],
   "source": [
    "a=int(input(\"Enter a number :\"))\n",
    "for i in range(0,a):\n",
    "    print(' '*i,end=' ')\n",
    "    for j in range(0,a):\n",
    "        if((i==0)or(j==0)or(i==(a-1))or(j==(a-1))):\n",
    "            print(\"*\",end=' ')\n",
    "        else:\n",
    "            print(' ',end=' ')\n",
    "    print()"
   ]
  },
  {
   "cell_type": "code",
   "execution_count": 8,
   "metadata": {},
   "outputs": [
    {
     "name": "stdout",
     "output_type": "stream",
     "text": [
      "Enter a number :7\n",
      "* \n",
      "* * \n",
      "* * * \n",
      "* * * * \n",
      "* * * * * \n",
      "* * * * * * \n",
      "* * * * * * * \n"
     ]
    }
   ],
   "source": [
    "a=int(input(\"Enter a number :\"))\n",
    "for i in range(0,a):\n",
    "    for j in range(0,i+1):\n",
    "        print('*',end=' ')\n",
    "    print()"
   ]
  },
  {
   "cell_type": "code",
   "execution_count": 9,
   "metadata": {},
   "outputs": [
    {
     "name": "stdout",
     "output_type": "stream",
     "text": [
      "Enter a number :7\n",
      "* \n",
      "* * \n",
      "*   * \n",
      "*     * \n",
      "*       * \n",
      "*         * \n",
      "* * * * * * * \n"
     ]
    }
   ],
   "source": [
    "a=int(input(\"Enter a number :\"))\n",
    "for i in range(0,a):\n",
    "    for j in range(0,i+1):\n",
    "        if((j==0)or(i==(a-1))or(i==j)):\n",
    "            print('*',end=' ')\n",
    "        else:\n",
    "            print(' ',end=' ')\n",
    "    print()"
   ]
  },
  {
   "cell_type": "code",
   "execution_count": 10,
   "metadata": {},
   "outputs": [
    {
     "name": "stdout",
     "output_type": "stream",
     "text": [
      "7\n",
      "A \n",
      "B B \n",
      "C C C \n",
      "D D D D \n",
      "E E E E E \n",
      "F F F F F F \n",
      "G G G G G G G \n"
     ]
    }
   ],
   "source": [
    "a=int(input())\n",
    "b=65\n",
    "for i in range(0,a):\n",
    "    for j in range(0,i+1):\n",
    "        print(chr(b),end=' ')\n",
    "    print()\n",
    "    b=b+1"
   ]
  },
  {
   "cell_type": "code",
   "execution_count": 11,
   "metadata": {},
   "outputs": [
    {
     "name": "stdout",
     "output_type": "stream",
     "text": [
      "Enter a number :7\n",
      "* * * * * * * \n",
      "* * * * * * \n",
      "* * * * * \n",
      "* * * * \n",
      "* * * \n",
      "* * \n",
      "* \n"
     ]
    }
   ],
   "source": [
    "a=int(input(\"Enter a number :\"))\n",
    "for i in reversed(range(0,a)):\n",
    "    for j in range(0,i+1):\n",
    "        print('*',end=' ')\n",
    "    print()"
   ]
  },
  {
   "cell_type": "code",
   "execution_count": 12,
   "metadata": {},
   "outputs": [
    {
     "name": "stdout",
     "output_type": "stream",
     "text": [
      "Enter a number :7\n",
      "* * * * * * * \n",
      "*         * \n",
      "*       * \n",
      "*     * \n",
      "*   * \n",
      "* * \n",
      "* \n"
     ]
    }
   ],
   "source": [
    "a=int(input(\"Enter a number :\"))\n",
    "for i in reversed(range(0,a)):\n",
    "    for j in range(0,i+1):\n",
    "        if((j==0)or(i==(a-1))or(i==j)):\n",
    "            print('*',end=' ')\n",
    "        else:\n",
    "            print(' ',end=' ')\n",
    "    print()"
   ]
  },
  {
   "cell_type": "code",
   "execution_count": 13,
   "metadata": {},
   "outputs": [
    {
     "name": "stdout",
     "output_type": "stream",
     "text": [
      "Enter a number :7\n",
      "       *\n",
      "      **\n",
      "     ***\n",
      "    ****\n",
      "   *****\n",
      "  ******\n",
      " *******\n"
     ]
    }
   ],
   "source": [
    "a=int(input(\"Enter a number :\"))\n",
    "for i in range(0,a):\n",
    "    print(' '*(a-i),end='')\n",
    "    for j in range(0,i+1):\n",
    "        print('*',end='')\n",
    "    print()"
   ]
  },
  {
   "cell_type": "code",
   "execution_count": 14,
   "metadata": {},
   "outputs": [
    {
     "name": "stdout",
     "output_type": "stream",
     "text": [
      "Enter a number :7\n",
      "       *\n",
      "      **\n",
      "     * *\n",
      "    *  *\n",
      "   *   *\n",
      "  *    *\n",
      " *******\n"
     ]
    }
   ],
   "source": [
    "a=int(input(\"Enter a number :\"))\n",
    "for i in range(0,a):\n",
    "    print(' '*(a-i),end='')\n",
    "    for j in range(0,i+1):\n",
    "        if((j==i)or(i==(a-1))or(j==0)):\n",
    "            print('*',end='')\n",
    "        else:\n",
    "            print(' ',end='')\n",
    "    print()"
   ]
  },
  {
   "cell_type": "code",
   "execution_count": 15,
   "metadata": {},
   "outputs": [
    {
     "name": "stdout",
     "output_type": "stream",
     "text": [
      "Enter a number :7\n",
      " *******\n",
      "  ******\n",
      "   *****\n",
      "    ****\n",
      "     ***\n",
      "      **\n",
      "       *\n"
     ]
    }
   ],
   "source": [
    "a=int(input(\"Enter a number :\"))\n",
    "for i in reversed(range(0,a)):\n",
    "    print(' '*(a-i),end='')\n",
    "    for j in range(0,i+1):\n",
    "        print('*',end='')\n",
    "    print()"
   ]
  },
  {
   "cell_type": "code",
   "execution_count": 16,
   "metadata": {},
   "outputs": [
    {
     "name": "stdout",
     "output_type": "stream",
     "text": [
      "Enter a number :7\n",
      " *******\n",
      "  *    *\n",
      "   *   *\n",
      "    *  *\n",
      "     * *\n",
      "      **\n",
      "       *\n"
     ]
    }
   ],
   "source": [
    "a=int(input(\"Enter a number :\"))\n",
    "for i in reversed(range(0,a)):\n",
    "    print(' '*(a-i),end='')\n",
    "    for j in range(0,i+1):\n",
    "        if((j==i)or(i==(a-1))or(j==0)):\n",
    "            print('*',end='')\n",
    "        else:\n",
    "            print(' ',end='')\n",
    "    print()"
   ]
  },
  {
   "cell_type": "code",
   "execution_count": 17,
   "metadata": {},
   "outputs": [
    {
     "name": "stdout",
     "output_type": "stream",
     "text": [
      "Enter a number :7\n",
      "       * \n",
      "      * * \n",
      "     * * * \n",
      "    * * * * \n",
      "   * * * * * \n",
      "  * * * * * * \n",
      " * * * * * * * \n"
     ]
    }
   ],
   "source": [
    "a=int(input(\"Enter a number :\"))\n",
    "for i in range(0,a):\n",
    "    print(' '*(a-i),end='')\n",
    "    for j in range(0,i+1):\n",
    "        print('*',end=' ')\n",
    "    print()"
   ]
  },
  {
   "cell_type": "code",
   "execution_count": 18,
   "metadata": {},
   "outputs": [
    {
     "name": "stdout",
     "output_type": "stream",
     "text": [
      "Enter a number :7\n",
      "       * \n",
      "      * * \n",
      "     *   * \n",
      "    *     * \n",
      "   *       * \n",
      "  *         * \n",
      " * * * * * * * \n"
     ]
    }
   ],
   "source": [
    "a=int(input(\"Enter a number :\"))\n",
    "for i in range(0,a):\n",
    "    print(' '*(a-i),end='')\n",
    "    for j in range(0,i+1):\n",
    "        if((j==i)or(i==(a-1))or(j==0)):\n",
    "            print('*',end=' ')\n",
    "        else:\n",
    "            print(' ',end=' ')\n",
    "    print()"
   ]
  },
  {
   "cell_type": "code",
   "execution_count": 19,
   "metadata": {},
   "outputs": [
    {
     "name": "stdout",
     "output_type": "stream",
     "text": [
      "Enter a number :7\n",
      " * * * * * * * \n",
      "  * * * * * * \n",
      "   * * * * * \n",
      "    * * * * \n",
      "     * * * \n",
      "      * * \n",
      "       * \n"
     ]
    }
   ],
   "source": [
    "a=int(input(\"Enter a number :\"))\n",
    "for i in reversed(range(0,a)):\n",
    "    print(' '*(a-i),end='')\n",
    "    for j in range(0,i+1):\n",
    "        print('*',end=' ')\n",
    "    print()"
   ]
  },
  {
   "cell_type": "code",
   "execution_count": 20,
   "metadata": {},
   "outputs": [
    {
     "name": "stdout",
     "output_type": "stream",
     "text": [
      "Enter a number :7\n",
      " * * * * * * * \n",
      "  *         * \n",
      "   *       * \n",
      "    *     * \n",
      "     *   * \n",
      "      * * \n",
      "       * \n"
     ]
    }
   ],
   "source": [
    "a=int(input(\"Enter a number :\"))\n",
    "for i in reversed(range(0,a)):\n",
    "    print(' '*(a-i),end='')\n",
    "    for j in range(0,i+1):\n",
    "        if((j==i)or(i==(a-1))or(j==0)):\n",
    "            print('*',end=' ')\n",
    "        else:\n",
    "            print(' ',end=' ')\n",
    "    print()"
   ]
  },
  {
   "cell_type": "code",
   "execution_count": 21,
   "metadata": {},
   "outputs": [
    {
     "name": "stdout",
     "output_type": "stream",
     "text": [
      "Enter a number :7\n",
      "       * \n",
      "      * * \n",
      "     * * * \n",
      "    * * * * \n",
      "   * * * * * \n",
      "  * * * * * * \n",
      " * * * * * * * \n",
      "  * * * * * * \n",
      "   * * * * * \n",
      "    * * * * \n",
      "     * * * \n",
      "      * * \n",
      "       * \n"
     ]
    }
   ],
   "source": [
    "a=int(input(\"Enter a number :\"))\n",
    "for i in range(0,a):\n",
    "    print(' '*(a-i),end='')\n",
    "    for j in range(0,i+1):\n",
    "        print('*',end=' ')\n",
    "    print()\n",
    "for i in reversed(range(0,a-1)):\n",
    "    print(' '*(a-i),end='')\n",
    "    for j in range(0,i+1):\n",
    "        print('*',end=' ')\n",
    "    print()"
   ]
  },
  {
   "cell_type": "code",
   "execution_count": 22,
   "metadata": {},
   "outputs": [
    {
     "name": "stdout",
     "output_type": "stream",
     "text": [
      "Enter a number :7\n",
      "       * \n",
      "      * * \n",
      "     *   * \n",
      "    *     * \n",
      "   *       * \n",
      "  *         * \n",
      " *           * \n",
      " *           * \n",
      "  *         * \n",
      "   *       * \n",
      "    *     * \n",
      "     *   * \n",
      "      * * \n",
      "       * \n"
     ]
    }
   ],
   "source": [
    "a=int(input(\"Enter a number :\"))\n",
    "for i in range(0,a):\n",
    "    print(' '*(a-i),end='')\n",
    "    for j in range(0,i+1):\n",
    "        if((j==i)or(j==0)):\n",
    "            print('*',end=' ')\n",
    "        else:\n",
    "            print(' ',end=' ')\n",
    "    print()\n",
    "for i in reversed(range(0,a)):\n",
    "    print(' '*(a-i),end='')\n",
    "    for j in range(0,i+1):\n",
    "        if((j==i)or(j==0)):\n",
    "            print('*',end=' ')\n",
    "        else:\n",
    "            print(' ',end=' ')\n",
    "    print()"
   ]
  },
  {
   "cell_type": "code",
   "execution_count": 23,
   "metadata": {},
   "outputs": [
    {
     "name": "stdout",
     "output_type": "stream",
     "text": [
      "Enter a number :7\n",
      "            * \n",
      "          * * * \n",
      "        * * * * * \n",
      "      * * * * * * * \n",
      "    * * * * * * * * * \n",
      "  * * * * * * * * * * * \n",
      "* * * * * * * * * * * * * \n"
     ]
    }
   ],
   "source": [
    "a=int(input(\"Enter a number :\"))\n",
    "for i in range(1,a+1):\n",
    "    for j in range(0,a-i):\n",
    "        print(' ',end=' ')\n",
    "    k=0   \n",
    "    while(k!=2*i-1):\n",
    "        print('*',end=' ')\n",
    "        k=k+1\n",
    "    print()"
   ]
  },
  {
   "cell_type": "code",
   "execution_count": 24,
   "metadata": {},
   "outputs": [
    {
     "name": "stdout",
     "output_type": "stream",
     "text": [
      "Enter a number :7\n",
      "* * * * * * * * * * * * * \n",
      "  * * * * * * * * * * * \n",
      "    * * * * * * * * * \n",
      "      * * * * * * * \n",
      "        * * * * * \n",
      "          * * * \n",
      "            * \n"
     ]
    }
   ],
   "source": [
    "a=int(input(\"Enter a number :\"))\n",
    "for i in range(1,a+1):\n",
    "    for j in range(1,i):\n",
    "        print(' ',end=' ')\n",
    "    k=0\n",
    "    while(k!=2*(a-i)+1):\n",
    "        print('*',end=' ')\n",
    "        k=k+1\n",
    "    print()"
   ]
  },
  {
   "cell_type": "code",
   "execution_count": 25,
   "metadata": {},
   "outputs": [
    {
     "name": "stdout",
     "output_type": "stream",
     "text": [
      "Enter an odd number :7\n",
      "* * * * * * * \n",
      "* * *   * * * \n",
      "* *       * * \n",
      "*           * \n"
     ]
    }
   ],
   "source": [
    "a=int(input(\"Enter an odd number :\"))\n",
    "for i in range(0,int(a/2)+1):\n",
    "    for j in range(0,a):\n",
    "        if((j<=(int(a/2)-i))or(j>=(int(a/2)+i))):\n",
    "            print('*',end=' ')\n",
    "        else:\n",
    "            print(' ',end=' ')\n",
    "    print()"
   ]
  },
  {
   "cell_type": "code",
   "execution_count": 26,
   "metadata": {},
   "outputs": [
    {
     "name": "stdout",
     "output_type": "stream",
     "text": [
      "Enter an odd number :7\n",
      "* * * * * * * \n",
      "* * *   * * * \n",
      "* *       * * \n",
      "*           * \n",
      "*           * \n",
      "* *       * * \n",
      "* * *   * * * \n",
      "* * * * * * * \n"
     ]
    }
   ],
   "source": [
    "a=int(input(\"Enter an odd number :\"))\n",
    "for i in range(0,int(a/2)+1):\n",
    "    for j in range(0,a):\n",
    "        if((j<=(int(a/2)-i))or(j>=(int(a/2)+i))):\n",
    "            print('*',end=' ')\n",
    "        else:\n",
    "            print(' ',end=' ')\n",
    "    print()\n",
    "for i in reversed(range(0,int(a/2)+1)):\n",
    "    for j in range(0,a):\n",
    "        if((j<=(int(a/2)-i))or(j>=(int(a/2)+i))):\n",
    "            print('*',end=' ')\n",
    "        else:\n",
    "            print(' ',end=' ')\n",
    "    print()"
   ]
  },
  {
   "cell_type": "code",
   "execution_count": 27,
   "metadata": {},
   "outputs": [
    {
     "name": "stdout",
     "output_type": "stream",
     "text": [
      "Enter an even number :8\n",
      "* * * * * * * * \n",
      "* * * * * * * * \n",
      "* * *     * * * \n",
      "* *         * * \n",
      "*             * \n",
      "*             * \n",
      "* *         * * \n",
      "* * *     * * * \n",
      "* * * * * * * * \n",
      "* * * * * * * * \n"
     ]
    }
   ],
   "source": [
    "a=int(input(\"Enter an even number :\"))\n",
    "for i in range(0,int(a/2)+1):\n",
    "    for j in range(0,a):\n",
    "        if((j<=(int(a/2)-i))or(j>=(int(a/2)+i)-1)):\n",
    "            print('*',end=' ')\n",
    "        else:\n",
    "            print(' ',end=' ')\n",
    "    print()\n",
    "for i in reversed(range(0,int(a/2)+1)):\n",
    "    for j in range(0,a):\n",
    "        if((j<=(int(a/2)-i))or(j>=(int(a/2)+i)-1)):\n",
    "            print('*',end=' ')\n",
    "        else:\n",
    "            print(' ',end=' ')\n",
    "    print()"
   ]
  },
  {
   "cell_type": "code",
   "execution_count": 28,
   "metadata": {},
   "outputs": [
    {
     "name": "stdout",
     "output_type": "stream",
     "text": [
      "Enter an odd number :8\n",
      "*             * \n",
      "* *         * * \n",
      "* * *     * * * \n",
      "* * * * * * * * \n",
      "* * * * * * * * \n",
      "* * * * * * * * \n",
      "* * *     * * * \n",
      "* *         * * \n",
      "*             * \n"
     ]
    }
   ],
   "source": [
    "a=int(input(\"Enter an odd number :\"))\n",
    "for i in range(0,int(a/2)+1):\n",
    "    for j in range(0,a):\n",
    "        if((j<=i)or(j>=(a-i-1))):\n",
    "            print('*',end=' ')\n",
    "        else:\n",
    "            print(' ',end=' ')\n",
    "    print()\n",
    "for i in reversed(range(0,int(a/2))):\n",
    "    for j in range(0,a):\n",
    "        if((j<=i)or(j>=(a-i-1))):\n",
    "            print('*',end=' ')\n",
    "        else:\n",
    "            print(' ',end=' ')\n",
    "    print()"
   ]
  },
  {
   "cell_type": "code",
   "execution_count": 29,
   "metadata": {},
   "outputs": [
    {
     "name": "stdout",
     "output_type": "stream",
     "text": [
      "* *             * * \n",
      "* * *         * * * \n",
      "* * * *     * * * * \n",
      "* * * * * * * * * * \n",
      "* * * * * * * * * * \n",
      "* * * *     * * * * \n",
      "* * *         * * * \n",
      "* *             * * \n"
     ]
    }
   ],
   "source": [
    "for i in range(0,4):\n",
    "    for j in range(0,10):\n",
    "        if((j<(2+i))or(j>7-i)):\n",
    "            print('*',end=' ')\n",
    "        else:\n",
    "            print(' ',end=' ')\n",
    "    print()\n",
    "for i in reversed(range(0,4)):\n",
    "    for j in range(0,10):\n",
    "        if((j<(2+i))or(j>7-i)):\n",
    "            print('*',end=' ')\n",
    "        else:\n",
    "            print(' ',end=' ')\n",
    "    print()"
   ]
  },
  {
   "cell_type": "code",
   "execution_count": 30,
   "metadata": {},
   "outputs": [
    {
     "name": "stdout",
     "output_type": "stream",
     "text": [
      "      * * * *           * * * *     \n",
      "    * * * * * *       * * * * * *   \n",
      "  * * * * * * * *   * * * * * * * * \n",
      "  * * * * * * * * * * * * * * * * * \n",
      "    * * * * * * * * * * * * * * * \n",
      "      * * * * * * * * * * * * * \n",
      "        * * * * * * * * * * * \n",
      "          * * * * * * * * * \n",
      "            * * * * * * * \n",
      "              * * * * * \n",
      "                * * * \n",
      "                  * \n"
     ]
    }
   ],
   "source": [
    "for i in range(0,3):\n",
    "    for j in range(0,18):\n",
    "        if(((j>=3-i)and(j<=6+i))or((j>=12-i)and(j<=15+i))):\n",
    "            print('*',end=' ')\n",
    "        else:\n",
    "            print(' ',end=' ')\n",
    "    print() \n",
    "for i in range(1,10):\n",
    "    print('  '*i,end='')\n",
    "    k=0\n",
    "    while(k!=(2*(9-i)+1)):\n",
    "        print('*',end=' ')\n",
    "        k=k+1\n",
    "    print()"
   ]
  },
  {
   "cell_type": "code",
   "execution_count": 31,
   "metadata": {},
   "outputs": [
    {
     "name": "stdout",
     "output_type": "stream",
     "text": [
      "Enter a number : 5\n",
      "1 \n",
      "1 1 \n",
      "1 2 1 \n",
      "1 3 3 1 \n",
      "1 4 6 4 1 \n"
     ]
    }
   ],
   "source": [
    "#pascal Triangle\n",
    "a=int(input(\"Enter a number : \"))\n",
    "l1=[]\n",
    "l2=[]\n",
    "for i in range(0,a):\n",
    "    k=0\n",
    "    for j in range(0,i+1):\n",
    "        if((i==j)|(j==0)):\n",
    "            l2.append(1)\n",
    "            print(1,end=' ')\n",
    "        else:\n",
    "            l2.append(l1[j-1]+l1[j])\n",
    "            print(l1[j-1]+l1[j],end=' ')\n",
    "    print()\n",
    "    l1=l2\n",
    "    l2=[]"
   ]
  },
  {
   "cell_type": "code",
   "execution_count": 32,
   "metadata": {},
   "outputs": [
    {
     "name": "stdout",
     "output_type": "stream",
     "text": [
      "Enter an odd number7\n",
      "        1 \n",
      "        1 \n",
      "        1 \n",
      "        1 \n",
      "        1 \n",
      "        1 \n",
      "        1 \n",
      "      3 3 3 \n",
      "      3 3 3 \n",
      "      3 3 3 \n",
      "      3 3 3 \n",
      "      3 3 3 \n",
      "    5 5 5 5 5 \n",
      "    5 5 5 5 5 \n",
      "    5 5 5 5 5 \n",
      "  7 7 7 7 7 7 7 \n"
     ]
    }
   ],
   "source": [
    "a=int(input(\"Enter an odd number\"))\n",
    "for i in range(1,a+1,2):\n",
    "    for j in reversed(range(1,a-i+2)):\n",
    "        z=int((a-i)/2)\n",
    "        print('  '*z,end='  ')\n",
    "        for k in range(0,i):\n",
    "            print(i,end=' ')\n",
    "        print()"
   ]
  },
  {
   "cell_type": "code",
   "execution_count": 33,
   "metadata": {},
   "outputs": [
    {
     "name": "stdout",
     "output_type": "stream",
     "text": [
      "Enter an odd number : 7\n",
      " 7 7 7 7 7 7 7 \n",
      "   5 5 5 5 5 \n",
      "     3 3 3 \n",
      "       1 \n",
      "     3 3 3 \n",
      "   5 5 5 5 5 \n",
      " 7 7 7 7 7 7 7 \n"
     ]
    }
   ],
   "source": [
    "a=int(input(\"Enter an odd number : \"))\n",
    "for i in range(1,a+1,2):\n",
    "    for j in range(0,a-i+1):\n",
    "        if(j==0):\n",
    "            print(' '*(i),end='')\n",
    "        print(a+1-i,end=' ')\n",
    "    print()\n",
    "for i in range(3,a+1,2):\n",
    "    for j in range(0,i):\n",
    "        if(j==0):\n",
    "            print(' '*(a-i+1),end='')\n",
    "        print(i,end=' ')\n",
    "    print()"
   ]
  },
  {
   "cell_type": "code",
   "execution_count": 34,
   "metadata": {},
   "outputs": [
    {
     "name": "stdout",
     "output_type": "stream",
     "text": [
      "Enter an odd number :7\n",
      "7           7 \n",
      "7 5       5 7 \n",
      "7 5 3   3 5 7 \n",
      "7 5 3 1 3 5 7 \n",
      "7 5 3   3 5 7 \n",
      "7 5       5 7 \n",
      "7           7 \n"
     ]
    }
   ],
   "source": [
    "a=int(input(\"Enter an odd number :\"))\n",
    "for i in range(0,int(a/2)+1):\n",
    "    for j in range(0,a):\n",
    "        if(j<(i+1)):\n",
    "            print((a-(2*j)),end=' ')\n",
    "        elif(j>(a-i-2)):\n",
    "            print(((2*(j+1))-a),end=' ')\n",
    "        else:\n",
    "            print(' ',end=' ')\n",
    "    print()\n",
    "for i in reversed(range(0,int(a/2))):\n",
    "    for j in range(0,a):\n",
    "        if(j<(i+1)):\n",
    "            print((a-(2*j)),end=' ')\n",
    "        elif(j>(a-i-2)):\n",
    "            print(((2*(j+1))-a),end=' ')\n",
    "        else:\n",
    "            print(' ',end=' ')\n",
    "    print()"
   ]
  },
  {
   "cell_type": "code",
   "execution_count": 35,
   "metadata": {},
   "outputs": [
    {
     "name": "stdout",
     "output_type": "stream",
     "text": [
      "Enter a number : 7\n",
      "7 7 7 7 7 7 7 7 7 7 7 7 7 \n",
      "7 6 6 6 6 6 6 6 6 6 6 6 7 \n",
      "7 6 5 5 5 5 5 5 5 5 5 6 7 \n",
      "7 6 5 4 4 4 4 4 4 4 5 6 7 \n",
      "7 6 5 4 3 3 3 3 3 4 5 6 7 \n",
      "7 6 5 4 3 2 2 2 3 4 5 6 7 \n",
      "7 6 5 4 3 2 1 2 3 4 5 6 7 \n",
      "7 6 5 4 3 2 2 2 3 4 5 6 7 \n",
      "7 6 5 4 3 3 3 3 3 4 5 6 7 \n",
      "7 6 5 4 4 4 4 4 4 4 5 6 7 \n",
      "7 6 5 5 5 5 5 5 5 5 5 6 7 \n",
      "7 6 6 6 6 6 6 6 6 6 6 6 7 \n",
      "7 7 7 7 7 7 7 7 7 7 7 7 7 \n"
     ]
    }
   ],
   "source": [
    "n=int(input(\"Enter a number : \"))\n",
    "len1=n*2-1\n",
    "for i in range(0,len1):\n",
    "    for j in range(0,len1):\n",
    "        if(i<j):\n",
    "            min1=i\n",
    "        else:\n",
    "            min1=j\n",
    "        if(min1<len1-i):\n",
    "            min1=min1\n",
    "        else:\n",
    "            min1=len1-i-1\n",
    "        if(min1<len1-j):\n",
    "            min1=min1\n",
    "        else:\n",
    "            min1=len1-j-1\n",
    "        print(n-min1,end=' ')\n",
    "    print()"
   ]
  },
  {
   "cell_type": "code",
   "execution_count": 36,
   "metadata": {},
   "outputs": [
    {
     "name": "stdout",
     "output_type": "stream",
     "text": [
      "7\n",
      "      H      \n",
      "     HHH     \n",
      "    HHHHH    \n",
      "   HHHHHHH   \n",
      "  HHHHHHHHH  \n",
      " HHHHHHHHHHH \n",
      "HHHHHHHHHHHHH\n",
      "   HHHHHHH                     HHHHHHH                  \n",
      "   HHHHHHH                     HHHHHHH                  \n",
      "   HHHHHHH                     HHHHHHH                  \n",
      "   HHHHHHH                     HHHHHHH                  \n",
      "   HHHHHHH                     HHHHHHH                  \n",
      "   HHHHHHH                     HHHHHHH                  \n",
      "   HHHHHHH                     HHHHHHH                  \n",
      "   HHHHHHH                     HHHHHHH                  \n",
      "   HHHHHHHHHHHHHHHHHHHHHHHHHHHHHHHHHHH    \n",
      "   HHHHHHHHHHHHHHHHHHHHHHHHHHHHHHHHHHH    \n",
      "   HHHHHHHHHHHHHHHHHHHHHHHHHHHHHHHHHHH    \n",
      "   HHHHHHHHHHHHHHHHHHHHHHHHHHHHHHHHHHH    \n",
      "   HHHHHHH                     HHHHHHH                  \n",
      "   HHHHHHH                     HHHHHHH                  \n",
      "   HHHHHHH                     HHHHHHH                  \n",
      "   HHHHHHH                     HHHHHHH                  \n",
      "   HHHHHHH                     HHHHHHH                  \n",
      "   HHHHHHH                     HHHHHHH                  \n",
      "   HHHHHHH                     HHHHHHH                  \n",
      "   HHHHHHH                     HHHHHHH                  \n",
      "                            HHHHHHHHHHHHH \n",
      "                             HHHHHHHHHHH  \n",
      "                              HHHHHHHHH   \n",
      "                               HHHHHHH    \n",
      "                                HHHHH     \n",
      "                                 HHH      \n",
      "                                  H       \n"
     ]
    }
   ],
   "source": [
    "thickness = int(input()) #This must be an odd number\n",
    "c = 'H'\n",
    "\n",
    "#Top Cone\n",
    "for i in range(thickness):\n",
    "    print((c*i).rjust(thickness-1)+c+(c*i).ljust(thickness-1))\n",
    "\n",
    "#Top Pillars\n",
    "for i in range(thickness+1):\n",
    "    print((c*thickness).center(thickness*2)+(c*thickness).center(thickness*6))\n",
    "\n",
    "#Middle Belt\n",
    "for i in range((thickness+1)//2):\n",
    "    print((c*thickness*5).center(thickness*6))    \n",
    "\n",
    "#Bottom Pillars\n",
    "for i in range(thickness+1):\n",
    "    print((c*thickness).center(thickness*2)+(c*thickness).center(thickness*6))    \n",
    "\n",
    "#Bottom Cone\n",
    "for i in range(thickness):\n",
    "    print(((c*(thickness-i-1)).rjust(thickness)+c+(c*(thickness-i-1)).ljust(thickness)).rjust(thickness*6))"
   ]
  },
  {
   "cell_type": "code",
   "execution_count": 37,
   "metadata": {},
   "outputs": [
    {
     "name": "stdout",
     "output_type": "stream",
     "text": [
      "7\n",
      "------------.|.------------\n",
      "---------.|..|..|.---------\n",
      "------.|..|..|..|..|.------\n",
      "----------WELCOME----------\n",
      "------.|..|..|..|..|.------\n",
      "---------.|..|..|.---------\n",
      "------------.|.------------\n"
     ]
    }
   ],
   "source": [
    "a=int(input())\n",
    "for i in range(1,a,2):\n",
    "    print(('.|.'*i).center(27,'-'))\n",
    "print('WELCOME'.center(27,'-'))\n",
    "for i in reversed(range(1,a,2)):\n",
    "    print(('.|.'*i).center(27,'-'))"
   ]
  },
  {
   "cell_type": "code",
   "execution_count": 41,
   "metadata": {},
   "outputs": [
    {
     "name": "stdout",
     "output_type": "stream",
     "text": [
      "4\n",
      "1 \n",
      "2 * 3 \n",
      "4 * 5 * 6 \n",
      "7 * 8 * 9 * 10 \n"
     ]
    }
   ],
   "source": [
    "a=int(input())\n",
    "b=0\n",
    "for i in range(0,a):\n",
    "    for j in range(0,i+1):\n",
    "        b=b+1\n",
    "        print(b,end=' ')\n",
    "        if(i!=j):\n",
    "            print('*',end=' ')\n",
    "    print()"
   ]
  },
  {
   "cell_type": "code",
   "execution_count": 42,
   "metadata": {},
   "outputs": [
    {
     "name": "stdout",
     "output_type": "stream",
     "text": [
      "4\n",
      "1 \n",
      "2 * 3 \n",
      "4 * 5 * 6 \n",
      "7 * 8 * 9 * 10 \n",
      "4 * 5 * 6 \n",
      "2 * 3 \n",
      "1 \n"
     ]
    }
   ],
   "source": [
    "a=int(input())\n",
    "b=0\n",
    "for i in range(0,a):\n",
    "    for j in range(0,i+1):\n",
    "        b=b+1\n",
    "        print(b,end=' ')\n",
    "        if(i!=j):\n",
    "            print('*',end=' ')\n",
    "    print()\n",
    "b=b-a\n",
    "z=b\n",
    "for i in reversed(range(0,a-1)):\n",
    "    for j in range(0,i+1):\n",
    "        if(j==0):\n",
    "            b=z-i-1\n",
    "            z=b\n",
    "        b=b+1\n",
    "        print(b,end=' ')\n",
    "        if(i!=j):\n",
    "            print('*',end=' ')\n",
    "    print()"
   ]
  }
 ],
 "metadata": {
  "kernelspec": {
   "display_name": "Python 3",
   "language": "python",
   "name": "python3"
  },
  "language_info": {
   "codemirror_mode": {
    "name": "ipython",
    "version": 3
   },
   "file_extension": ".py",
   "mimetype": "text/x-python",
   "name": "python",
   "nbconvert_exporter": "python",
   "pygments_lexer": "ipython3",
   "version": "3.7.7"
  }
 },
 "nbformat": 4,
 "nbformat_minor": 2
}
